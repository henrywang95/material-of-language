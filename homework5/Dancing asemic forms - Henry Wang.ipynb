{
 "cells": [
  {
   "cell_type": "code",
   "execution_count": 2,
   "metadata": {},
   "outputs": [],
   "source": [
    "from sklearn.cluster import MiniBatchKMeans"
   ]
  },
  {
   "cell_type": "code",
   "execution_count": 3,
   "metadata": {},
   "outputs": [],
   "source": [
    "from IPython.display import display, Image, HTML"
   ]
  },
  {
   "cell_type": "code",
   "execution_count": 4,
   "metadata": {},
   "outputs": [],
   "source": [
    "import ipywidgets as widgets"
   ]
  },
  {
   "cell_type": "code",
   "execution_count": 5,
   "metadata": {},
   "outputs": [],
   "source": [
    "from flat import document, shape, rgb,rgba\n",
    "import random"
   ]
  },
  {
   "cell_type": "code",
   "execution_count": 6,
   "metadata": {},
   "outputs": [],
   "source": [
    "from IPython.display import SVG, display\n",
    "def show(page):\n",
    "    display(SVG(page.svg()))"
   ]
  },
  {
   "cell_type": "code",
   "execution_count": 7,
   "metadata": {},
   "outputs": [],
   "source": [
    "from bezmerizing import Polyline, Path\n",
    "from copy import copy\n",
    "import numpy as np"
   ]
  },
  {
   "cell_type": "code",
   "execution_count": 8,
   "metadata": {},
   "outputs": [],
   "source": [
    "def kmeans_glyph(n_clusters=6):\n",
    "    data = np.random.uniform(low=-0.5, high=0.5, size=(500, 2))\n",
    "    km = MiniBatchKMeans(n_clusters=n_clusters, max_iter=25)\n",
    "    km.fit(data)\n",
    "    np.random.shuffle(km.cluster_centers_)\n",
    "    return Polyline(km.cluster_centers_)"
   ]
  },
  {
   "cell_type": "code",
   "execution_count": 9,
   "metadata": {},
   "outputs": [
    {
     "data": {
      "image/svg+xml": [
       "<svg height=\"283.4646pt\" version=\"1.1\" width=\"283.4646pt\" xmlns=\"http://www.w3.org/2000/svg\" xmlns:xlink=\"http://www.w3.org/1999/xlink\">\n",
       "<title>Untitled</title>\n",
       "<polygon fill=\"rgb(40,40,40)\" points=\"127.9799 133.3366 123.9506 139.3854 120.1795 145.4459 116.6483 151.496 113.3386 157.5138 110.2318 163.4771 107.3095 169.3638 104.553 175.1519 101.9434 180.8193 99.462 186.3441 97.0896 191.7045 94.8067 196.8791 92.5938 201.8466 90.4304 206.5861 88.2959 211.0773 86.1683 215.3003 84.0243 219.2358 81.8384 222.8649 79.5822 226.1683 77.2232 229.1251 74.725 231.7094 72.0495 233.8853 69.1656 235.6016 66.0643 236.794 66.0572 236.7696 62.3401 237.1473 58.7519 236.3112 55.4258 234.5313 52.3255 232.0102 49.3985 228.8641 46.6199 225.1746 43.988 221.015 41.5145 216.4591 39.2184 211.582 37.1226 206.4603 35.2527 201.1718 33.6356 195.7945 32.2994 190.4062 31.2731 185.084 30.5872 179.9037 30.2743 174.9384 30.371 170.2574 30.9227 165.9253 31.9915 162.0045 33.6668 158.5708 36.0547 155.7581 39.1895 153.7948 42.9445 152.892 42.9468 152.9173 47.1044 153.2416 51.2305 154.7308 55.3695 157.1507 59.592 160.3523 63.9423 164.2211 68.4427 168.6503 73.1031 173.5327 77.927 178.7594 82.9137 184.2203 88.0606 189.8037 93.3635 195.3975 98.8169 200.8888 104.4141 206.1643 110.1475 211.1111 116.0079 215.6166 121.985 219.5693 128.0678 222.8604 134.2459 225.385 140.5131 227.0426 146.872 227.7358 153.3373 227.3642 159.9318 225.8163 166.6757 222.9667 166.6875 222.9893 173.5707 218.9595 180.3923 214.0874 187.12 208.441 193.7224 202.0898 200.169 195.1045 206.4306 187.5561 212.4787 179.5159 218.2853 171.0552 223.8229 162.2453 229.0645 153.1574 233.9832 143.8628 238.5521 134.4328 242.7449 124.9386 246.5351 115.4514 249.8965 106.0427 252.8027 96.7838 255.2279 87.7466 257.1463 79.0029 258.5323 70.6252 259.3609 62.6862 259.6082 55.2595 259.2518 48.4193 258.2718 42.2402 258.2966 42.2345 256.4348 36.756 253.4645 31.7722 249.4763 27.274 244.5674 23.2648 238.8434 19.7527 232.4161 16.7441 225.3999 14.2432 217.91 12.2514 210.0617 10.7687 201.9699 9.7937 193.7495 9.3241 185.5147 9.3573 177.38 9.8901 169.4594 10.919 161.867 12.4401 154.7302 14.4891 148.1657 17.0372 142.2842 20.0542 137.2008 23.5274 133.0264 27.44 129.8632 31.7743 127.8009 36.521 126.9247 41.693 126.9629 41.695 127.25 47.4998 128.5772 54.0195 130.8742 61.1662 134.0617 68.8539 138.057 76.9996 142.7759 85.5227 148.1336 94.3444 154.0451 103.3865 160.4253 112.5719 167.1893 121.8235 174.2519 131.0646 181.5281 140.2186 188.933 149.2092 196.3815 157.96 203.7884 166.3945 211.0687 174.4364 218.137 182.0092 224.9078 189.0363 231.2951 195.4406 237.2123 201.1447 242.5711 206.0699 247.2798 210.1355 251.2372 213.2556 251.2601 213.2251 254.5142 215.2482 257.4071 216.3406 259.907 216.628 262.0576 216.2454 263.9686 215.2564 265.7092 213.6363 267.2601 211.3569 268.562 208.4348 269.5582 204.9191 270.2043 200.8713 270.466 196.3553 270.3153 191.4341 269.7278 186.1694 268.6813 180.6215 267.1548 174.8493 265.1281 168.911 262.5817 162.8639 259.496 156.7646 255.8518 150.6691 251.6297 144.6326 246.8103 138.71 241.3736 132.9555 235.2992 127.4232 238.976 123.108 245.3125 128.9849 250.9769 135.0945 255.9894 141.3786 260.3707 147.7796 264.1418 154.2402 267.3238 160.7037 269.938 167.1139 272.0056 173.4156 273.5474 179.5538 274.5838 185.4747 275.1345 191.1253 275.2177 196.4537 274.8495 201.4096 274.0425 205.944 272.8029 210.0087 271.127 213.5532 268.9985 216.5145 266.3987 218.7972 263.3488 220.261 259.9586 220.7693 256.3782 220.2735 252.692 218.7965 248.9087 216.3521 248.9317 216.3216 244.8605 213.0135 240.1023 208.8034 234.7255 203.7573 228.808 197.9464 222.4309 191.4439 215.6771 184.3241 208.6301 176.6619 201.374 168.5326 193.993 160.0116 186.5713 151.1742 179.1935 142.096 171.9439 132.8526 164.9072 123.5192 158.1677 114.1712 151.8099 104.8839 145.9184 95.7321 140.5776 86.7903 135.872 78.1324 131.8864 69.8314 128.7059 61.9584 126.4174 54.5826 125.1113 47.7697 124.8866 41.5835 124.9247 41.5855 125.9595 35.9547 128.2685 30.8361 131.7116 26.2494 136.1528 22.1922 141.4685 18.6534 147.5443 15.623 154.2694 13.0951 161.529 11.0462 169.2142 9.4542 177.2267 8.3616 185.455 7.7713 193.7876 7.6865 202.1133 8.1108 210.3207 9.0483 218.299 10.5035 225.9376 12.4817 233.126 14.9897 239.7541 18.0357 245.7104 21.6305 250.8812 25.7874 255.1465 30.5211 258.3778 35.842 260.4401 41.7474 260.4649 41.7418 261.539 48.1771 261.959 55.2343 261.7574 62.847 260.9636 70.9482 259.6059 79.4707 257.7111 88.3463 255.3061 97.5063 252.4169 106.8817 249.0696 116.4033 245.2902 126.0015 241.1043 135.6066 236.5377 145.149 231.6159 154.5589 226.3643 163.7667 220.808 172.7024 214.9719 181.2965 208.8807 189.4793 202.5585 197.181 196.0287 204.3319 189.3142 210.8621 182.4368 216.7012 175.417 221.7779 168.2744 226.0191 168.2862 226.0417 161.0372 229.1604 153.8604 230.8987 146.7857 231.3587 139.8457 230.6563 133.0645 228.9185 126.4546 226.2752 120.0193 222.8536 113.7581 218.7759 107.6694 214.1607 101.7526 209.124 96.0084 203.7808 90.4386 198.2452 85.0464 192.6316 79.8358 187.0545 74.8123 181.6289 69.9829 176.4709 65.3568 171.6975 60.9469 167.4274 56.7729 163.7808 52.8668 160.8781 49.2824 158.8323 46.1002 157.7219 43.3741 157.54 43.3764 157.5653 41.0515 158.1583 39.2438 159.3389 37.7679 161.1524 36.5998 163.6611 35.7867 166.8329 35.3595 170.5778 35.3219 174.792 35.6603 179.3742 36.3531 184.2279 37.3741 189.2601 38.6952 194.3806 40.2868 199.5004 42.1185 204.5316 44.1585 209.3861 46.3738 213.9756 48.7288 218.2108 51.184 222.0011 53.6922 225.2538 56.1932 227.8767 58.6037 229.7852 60.8124 230.9295 62.7245 231.3464 64.4146 231.1398 64.4075 231.1153 66.5014 230.2632 68.5467 228.9927 70.5722 227.2848 72.5852 225.1336 74.5856 222.5485 76.575 219.5488 78.5591 216.1588 80.5475 212.4047 82.553 208.3127 84.5902 203.9088 86.6755 199.2184 88.826 194.2664 91.0597 189.0773 93.3948 183.675 95.8503 178.0833 98.4449 172.3258 101.198 166.4257 104.1288 160.4064 107.2568 154.291 110.6016 148.1027 114.1828 141.8646 118.02 135.6 122.1331 129.3323\"/>\n",
       "</svg>"
      ],
      "text/plain": [
       "<IPython.core.display.SVG object>"
      ]
     },
     "metadata": {},
     "output_type": "display_data"
    }
   ],
   "source": [
    "glyph = kmeans_glyph(10).scale(100).translate(50, 50)\n",
    "glyph_poly = glyph.fancy_curve(samples_per=24,\n",
    "                               thicknesses=[2.5, 1.5, 0.5, 2],\n",
    "                               tightness=-0.5)\n",
    "page = document(100, 100, 'mm').addpage()\n",
    "brush = shape().nostroke().fill(rgb(40, 40, 40))\n",
    "page.place(brush.polygon(glyph_poly))\n",
    "show(page)"
   ]
  },
  {
   "cell_type": "code",
   "execution_count": 10,
   "metadata": {},
   "outputs": [],
   "source": [
    "n_frames = 25\n",
    "glyph_a = kmeans_glyph(10).scale(100).translate(50, 50)\n",
    "glyph_b = kmeans_glyph(10).scale(100).translate(50, 50)\n",
    "interp = np.linspace(glyph_a.vertices, glyph_b.vertices, n_frames+1)\n",
    "def render(step=0):\n",
    "    this_glyph = Polyline(interp[step])\n",
    "    glyph_poly = this_glyph.augment().fancy_curve(samples_per=24,\n",
    "                               thicknesses=[2.5, 1.5, 0.5, 2],\n",
    "                               tightness=-0.5)\n",
    "    page = document(100, 100, 'mm').addpage()\n",
    "    brush = shape().nostroke().fill(rgb(40, 40, 40))\n",
    "    page.place(brush.polygon(glyph_poly))\n",
    "    return page"
   ]
  },
  {
   "cell_type": "code",
   "execution_count": 11,
   "metadata": {},
   "outputs": [
    {
     "data": {
      "application/vnd.jupyter.widget-view+json": {
       "model_id": "2403a1ab08664b14bc6b7da3e16dbd0e",
       "version_major": 2,
       "version_minor": 0
      },
      "text/plain": [
       "interactive(children=(Play(value=0, description='step', interval=33, max=25), Output()), _dom_classes=('widget…"
      ]
     },
     "metadata": {},
     "output_type": "display_data"
    },
    {
     "data": {
      "text/plain": [
       "<function __main__.<lambda>(step)>"
      ]
     },
     "execution_count": 11,
     "metadata": {},
     "output_type": "execute_result"
    }
   ],
   "source": [
    "widgets.interact(lambda step: show(render(step)),\n",
    "                 step=widgets.Play(min=0, max=n_frames, step=1, interval=1000/30))"
   ]
  },
  {
   "cell_type": "code",
   "execution_count": 12,
   "metadata": {},
   "outputs": [],
   "source": [
    "n_frames = 25\n",
    "#glyph_a = kmeans_glyph(10)\n",
    "#glyph_b = kmeans_glyph(10)\n",
    "all_interps = []\n",
    "for i in range(100):\n",
    "    glyph_a = kmeans_glyph(10)\n",
    "    glyph_b = kmeans_glyph(10)\n",
    "    interp = np.linspace(glyph_a.vertices, glyph_b.vertices, n_frames+1)\n",
    "    all_interps.append(interp)\n",
    "# all_interps[4][step]\n",
    "def render(step=0):\n",
    "\n",
    "    width = 120\n",
    "    height = 120\n",
    "    d = document(width, height, 'mm')\n",
    "    page = d.addpage()\n",
    "    brush = shape().stroke(rgba(40, 40, 40, 200)).width(1.5)\n",
    "    grid_size = 10\n",
    "    cell_size_x = width / grid_size\n",
    "    cell_size_y = height / grid_size\n",
    "    for i in range(grid_size):\n",
    "        for j in range(grid_size):\n",
    "            scale_val = (width / grid_size) * 0.8\n",
    "            x = i * cell_size_x + (cell_size_x * 0.5)\n",
    "            y = j * cell_size_y + (cell_size_y * 0.5)\n",
    "            pos = (i * 10) + (j % 10)\n",
    "            this_glyph = Polyline(all_interps[pos][step])\n",
    "            glyph = this_glyph.scale(scale_val).translate(x, y)\n",
    "            page.place(brush.path(glyph.augment().smooth_path()))\n",
    "    return(page)"
   ]
  },
  {
   "cell_type": "code",
   "execution_count": 13,
   "metadata": {
    "scrolled": false
   },
   "outputs": [
    {
     "data": {
      "application/vnd.jupyter.widget-view+json": {
       "model_id": "e0e4cb2fb3aa4a11a797b87162b4a6c4",
       "version_major": 2,
       "version_minor": 0
      },
      "text/plain": [
       "interactive(children=(Play(value=0, description='step', interval=33, max=25), Output()), _dom_classes=('widget…"
      ]
     },
     "metadata": {},
     "output_type": "display_data"
    },
    {
     "data": {
      "text/plain": [
       "<function __main__.<lambda>(step)>"
      ]
     },
     "execution_count": 13,
     "metadata": {},
     "output_type": "execute_result"
    }
   ],
   "source": [
    "widgets.interact(lambda step: show(render(step)),\n",
    "                 step=widgets.Play(min=0, max=n_frames, step=1, interval=1000/30))"
   ]
  },
  {
   "cell_type": "code",
   "execution_count": 14,
   "metadata": {},
   "outputs": [],
   "source": [
    "def kmeans_glyph(n_clusters=10):\n",
    "    data = np.random.uniform(low=-0.5, high=0.5, size=(500, 2))\n",
    "    km = MiniBatchKMeans(n_clusters=n_clusters, max_iter=40)\n",
    "    km.fit(data)\n",
    "    np.random.shuffle(km.cluster_centers_)\n",
    "    return Polyline(km.cluster_centers_)"
   ]
  },
  {
   "cell_type": "code",
   "execution_count": 15,
   "metadata": {},
   "outputs": [],
   "source": [
    "def kmeans_glyph1(n_clusters=15):\n",
    "    data = np.random.uniform(low=-0.4, high=0.4, size=(500, 2))\n",
    "    km = MiniBatchKMeans(n_clusters=n_clusters, max_iter=25)\n",
    "    km.fit(data)\n",
    "    np.random.shuffle(km.cluster_centers_)\n",
    "    return Polyline(km.cluster_centers_)"
   ]
  },
  {
   "cell_type": "code",
   "execution_count": 16,
   "metadata": {},
   "outputs": [],
   "source": [
    "n_frames = 28\n",
    "glyph_a = kmeans_glyph(15).scale(60).translate(66, 66)\n",
    "glyph_b = kmeans_glyph1(15).scale(120).translate(50, 50)\n",
    "\n",
    "interp = np.linspace(glyph_a.vertices, glyph_b.vertices,n_frames+1)\n",
    "def render(step=0):\n",
    "    this_glyph = Polyline(interp[step])\n",
    "    glyph_poly = this_glyph.augment().fancy_curve(samples_per=3,\n",
    "                               thicknesses=[3.2, 1.5, 0.8, 4],\n",
    "                               tightness=-1.5)\n",
    "    page = document(100, 100, 'mm').addpage()\n",
    "    brush = shape().nostroke().fill(rgba(20, 120, 20, 200))\n",
    "    page.place(brush.polygon(glyph_poly))\n",
    "    return page"
   ]
  },
  {
   "cell_type": "code",
   "execution_count": 17,
   "metadata": {
    "scrolled": false
   },
   "outputs": [
    {
     "data": {
      "application/vnd.jupyter.widget-view+json": {
       "model_id": "c25c85adb93e443f92dcd9e0852a8572",
       "version_major": 2,
       "version_minor": 0
      },
      "text/plain": [
       "interactive(children=(Play(value=0, description='step', interval=33, max=28), Output()), _dom_classes=('widget…"
      ]
     },
     "metadata": {},
     "output_type": "display_data"
    },
    {
     "data": {
      "text/plain": [
       "<function __main__.<lambda>(step)>"
      ]
     },
     "execution_count": 17,
     "metadata": {},
     "output_type": "execute_result"
    }
   ],
   "source": [
    "widgets.interact(lambda step: show(render(step)),\n",
    "                 step=widgets.Play(min=0, max=n_frames, step=1, interval=1000/30))"
   ]
  },
  {
   "cell_type": "code",
   "execution_count": 18,
   "metadata": {},
   "outputs": [],
   "source": [
    "from itertools import chain\n",
    "\n",
    "# canvas\n",
    "width = 250\n",
    "height = 250\n",
    "# number of interpolations and steps per interpolation\n",
    "n_interps = 12\n",
    "n_steps = 48\n",
    "interps = []\n",
    "# generate interpolations\n",
    "start = kmeans_glyph1(15)\n",
    "current = start\n",
    "for i in range(n_interps):\n",
    "    end = kmeans_glyph(15)\n",
    "    interp = np.linspace(current.vertices, end.vertices, n_steps)\n",
    "    # make the last value of this interpolation the first of the next\n",
    "    current = end \n",
    "    interps.append(interp)\n",
    "# loop back to first\n",
    "interps.append(np.linspace(current.vertices, start.vertices, n_steps))\n",
    "# flatten list of lists\n",
    "interps = list(chain(*interps))\n",
    "\n",
    "def render(step=0):\n",
    "    this_glyph = Polyline(interps[step]).scale(width*0.9).translate(width*0.5, height*0.5)\n",
    "    glyph_poly = this_glyph.augment().fancy_curve(samples_per=2,\n",
    "                               thicknesses=[11, 7, 5, 2],\n",
    "                               tightness=-1.5)\n",
    "    page = document(width, height, 'mm').addpage()\n",
    "    background = shape().nostroke().fill(rgb(255, 255, 255))\n",
    "    brush = shape().nostroke().fill(rgba(20, 120, 40, 200))\n",
    "    page.place(background.rectangle(0, 0, width, height))\n",
    "    page.place(brush.polygon(glyph_poly))\n",
    "    return page"
   ]
  },
  {
   "cell_type": "code",
   "execution_count": 18,
   "metadata": {},
   "outputs": [
    {
     "data": {
      "application/vnd.jupyter.widget-view+json": {
       "model_id": "7edbb9c7952249c5b18a912dffa1ffde",
       "version_major": 2,
       "version_minor": 0
      },
      "text/plain": [
       "interactive(children=(Play(value=0, description='step', interval=33, max=623), Output()), _dom_classes=('widge…"
      ]
     },
     "metadata": {},
     "output_type": "display_data"
    },
    {
     "data": {
      "text/plain": [
       "<function __main__.<lambda>(step)>"
      ]
     },
     "execution_count": 18,
     "metadata": {},
     "output_type": "execute_result"
    }
   ],
   "source": [
    "widgets.interact(lambda step: show(render(step)),\n",
    "                 step=widgets.Play(min=0, max=len(interps)-1, step=1, interval=1000/30))"
   ]
  },
  {
   "cell_type": "code",
   "execution_count": null,
   "metadata": {},
   "outputs": [],
   "source": []
  },
  {
   "cell_type": "code",
   "execution_count": null,
   "metadata": {},
   "outputs": [],
   "source": []
  }
 ],
 "metadata": {
  "kernelspec": {
   "display_name": "Python 3",
   "language": "python",
   "name": "python3"
  },
  "language_info": {
   "codemirror_mode": {
    "name": "ipython",
    "version": 3
   },
   "file_extension": ".py",
   "mimetype": "text/x-python",
   "name": "python",
   "nbconvert_exporter": "python",
   "pygments_lexer": "ipython3",
   "version": "3.7.4"
  }
 },
 "nbformat": 4,
 "nbformat_minor": 2
}
